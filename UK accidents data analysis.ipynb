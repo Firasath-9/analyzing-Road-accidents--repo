{
 "cells": [
  {
   "cell_type": "code",
   "execution_count": 1,
   "id": "dd09c43d",
   "metadata": {},
   "outputs": [],
   "source": [
    "#Importing important libraries\n",
    "import csv\n",
    "import pandas as pd\n",
    "import matplotlib.pyplot as plt\n",
    "import numpy as np\n",
    "import warnings\n",
    "warnings.filterwarnings(\"ignore\", category=FutureWarning)"
   ]
  },
  {
   "cell_type": "code",
   "execution_count": 2,
   "id": "2dcf6ae8",
   "metadata": {},
   "outputs": [],
   "source": [
    "# Reading dataset\n",
    "df_accident = pd.read_csv('Accidents.csv')"
   ]
  },
  {
   "cell_type": "markdown",
   "id": "19e67a76",
   "metadata": {},
   "source": [
    "### Defining functions"
   ]
  },
  {
   "cell_type": "code",
   "execution_count": 3,
   "id": "253070fd",
   "metadata": {},
   "outputs": [],
   "source": [
    "def analysis(df,condition):\n",
    "    \"\"\"\n",
    "    function to calculate accident count based on dataframe and condition\n",
    "    \n",
    "    Args:\n",
    "        df (Dataframe): The dataframe to count\n",
    "        condition: Condition to be implemented\n",
    "    \n",
    "    Returns:\n",
    "        Count of occurance of the condition\n",
    "    \"\"\"\n",
    "    \n",
    "    count=0\n",
    "    for i in df:\n",
    "        if i==condition:\n",
    "            count=count+1\n",
    "    return count"
   ]
  },
  {
   "cell_type": "code",
   "execution_count": 4,
   "id": "05c7faa0",
   "metadata": {},
   "outputs": [],
   "source": [
    "def plot_lineGraph(X,Y,xlabel,ylabel,title):\n",
    "    \"\"\"\n",
    "    function to plot line graph\n",
    "    \n",
    "    Args:\n",
    "        X: X value to be plotted\n",
    "        Y: Y value to be plotted\n",
    "        xlabel: string to be displayed on x-axis\n",
    "        ylabel: string to be displayed on y-axis\n",
    "        title: title of the line graph\n",
    "    \n",
    "    Returns:\n",
    "        Null\n",
    "    \"\"\"\n",
    "        \n",
    "    plt.figure(figsize=(10,6))\n",
    "    plt.plot(X,Y)\n",
    "    plt.xticks(rotation=10)\n",
    "    plt.xlabel(xlabel)\n",
    "    plt.ylabel(ylabel)\n",
    "    plt.title(title)"
   ]
  },
  {
   "cell_type": "code",
   "execution_count": 5,
   "id": "a809cafe",
   "metadata": {},
   "outputs": [],
   "source": [
    "def plot_pieChart(Count,Label,Explode,ColorList):\n",
    "    \"\"\"\n",
    "    function to plot pie char\n",
    "    \n",
    "    Args:\n",
    "        Count: count to be plotted in pie chart\n",
    "        Label: Labels of each count\n",
    "        Explode: Explode values of each pie\n",
    "        ColorList: List of Colors for each pie\n",
    "    \n",
    "    Returns:\n",
    "        Null\n",
    "    \"\"\"\n",
    "        \n",
    "    plt.figure(figsize=(10,8))\n",
    "    plt.pie(Count, labels =Label,explode=Explode, colors=ColorList, autopct='%1.1f%%')"
   ]
  },
  {
   "cell_type": "code",
   "execution_count": 6,
   "id": "c00e5903",
   "metadata": {},
   "outputs": [],
   "source": [
    "def plot_table(Text, Labels, Columns):\n",
    "    \"\"\"\n",
    "    function to plot table\n",
    "    \n",
    "    Args:\n",
    "        Text: Row values\n",
    "        Labels: Index values\n",
    "        Columns: List of column names of the table\n",
    "    \n",
    "    Returns:\n",
    "        Null\n",
    "    \"\"\"\n",
    "        \n",
    "    plt.table(cellText=Text, rowLabels=Labels, colLabels=Columns, cellLoc = 'center', rowLoc = 'center', loc='top')\n",
    "    plt.axis('off')"
   ]
  },
  {
   "cell_type": "code",
   "execution_count": 7,
   "id": "8d59afb9",
   "metadata": {},
   "outputs": [],
   "source": [
    "def plot_barGraph(X,Y,xlabel,ylabel,title):\n",
    "    \"\"\"\n",
    "    function to plot bar graph\n",
    "    \n",
    "    Args:\n",
    "        X: X value to be plotted\n",
    "        Y: Y value to be plotted\n",
    "        xlabel: string to be displayed on x-axis\n",
    "        ylabel: string to be displayed on y-axis\n",
    "        title: title of the bar graph\n",
    "    \n",
    "    Returns:\n",
    "        Null\n",
    "    \"\"\"\n",
    "        \n",
    "    plt.figure(figsize=(10,6))\n",
    "    plt.bar(X,Y)\n",
    "    plt.xticks(rotation=10)\n",
    "    plt.xlabel(xlabel)\n",
    "    plt.ylabel(ylabel)\n",
    "    plt.title(title)"
   ]
  },
  {
   "cell_type": "code",
   "execution_count": 8,
   "id": "7d398210",
   "metadata": {},
   "outputs": [],
   "source": [
    "def explore_dataframe(df):\n",
    "    \"\"\"\n",
    "    function to explore dataframe\n",
    "    \n",
    "    Args:\n",
    "        df: dataframe\n",
    "    \n",
    "    Returns:\n",
    "        Null\n",
    "    \"\"\"\n",
    "       \n",
    "    print(\"The top 5 Rows:\\n\",df.head(),\"\\n\")\n",
    "    print(\"Stats of df:\\n\",df.describe(),\"\\n\")\n",
    "    print(\"Dataset info:\\n\",df.info(),\"\\n\")\n",
    "    print(df.describe(include=\"all\"),\"\\n\")\n",
    "    print(\"Shape of Dataframe:\\n\",df.shape,\"\\n\")\n",
    "    print(\"Columns in Datafram:\\n\",df.columns,\"\\n\")"
   ]
  },
  {
   "cell_type": "markdown",
   "id": "66ef2b6b",
   "metadata": {},
   "source": [
    "### Exploring dataset"
   ]
  },
  {
   "cell_type": "code",
   "execution_count": 9,
   "id": "5d843902",
   "metadata": {},
   "outputs": [
    {
     "name": "stdout",
     "output_type": "stream",
     "text": [
      "The top 5 Rows:\n",
      "    accident_index  accident_year accident_severity  number_of_vehicles  \\\n",
      "0    2.020000e+12           2020            Slight                   1   \n",
      "1    2.020000e+12           2020            Slight                   1   \n",
      "2    2.020000e+12           2020            Slight                   1   \n",
      "3    2.020000e+12           2020           Serious                   1   \n",
      "4    2.020000e+12           2020            Slight                   1   \n",
      "\n",
      "   number_of_casualties       date     Month day_of_week  \\\n",
      "0                     1   2/4/2020  February     Tuesday   \n",
      "1                     2  4/27/2020     April      Monday   \n",
      "2                     1   1/1/2020   January   Wednesday   \n",
      "3                     1   1/1/2020   January   Wednesday   \n",
      "4                     2   1/1/2020   January   Wednesday   \n",
      "\n",
      "  local_authority_district           road_type       light_conditions  \\\n",
      "0               Wandsworth  Single carriageway               Daylight   \n",
      "1                  Lambeth  Single carriageway               Daylight   \n",
      "2              Westminster  Single carriageway  Darkness - lights lit   \n",
      "3                   Newham  Single carriageway  Darkness - lights lit   \n",
      "4              Westminster  Single carriageway  Darkness - lights lit   \n",
      "\n",
      "   weather_conditions  road_surface_conditions carriageway_hazards  \\\n",
      "0             Unknown  unknown (self reported)                None   \n",
      "1  Fine no high winds                      Dry                None   \n",
      "2  Fine no high winds              Wet or damp                None   \n",
      "3  Fine no high winds                      Dry                None   \n",
      "4  Fine no high winds                      Dry                None   \n",
      "\n",
      "  urban_or_rural_area trunk_road_flag  \n",
      "0               Urban       Non-trunk  \n",
      "1               Urban       Non-trunk  \n",
      "2               Urban       Non-trunk  \n",
      "3               Urban       Non-trunk  \n",
      "4               Urban       Non-trunk   \n",
      "\n",
      "Stats of df:\n",
      "        accident_index  accident_year  number_of_vehicles  number_of_casualties\n",
      "count    8.411100e+04        91199.0        91199.000000          91199.000000\n",
      "mean              inf         2020.0            1.835272              1.267382\n",
      "std               NaN            0.0            0.677272              0.681473\n",
      "min      2.020000e+12         2020.0            1.000000              1.000000\n",
      "25%      2.020000e+12         2020.0            1.000000              1.000000\n",
      "50%      2.020000e+12         2020.0            2.000000              1.000000\n",
      "75%      2.020000e+12         2020.0            2.000000              1.000000\n",
      "max               inf         2020.0           13.000000             41.000000 \n",
      "\n",
      "<class 'pandas.core.frame.DataFrame'>\n",
      "RangeIndex: 91199 entries, 0 to 91198\n",
      "Data columns (total 16 columns):\n",
      " #   Column                    Non-Null Count  Dtype  \n",
      "---  ------                    --------------  -----  \n",
      " 0   accident_index            84111 non-null  float64\n",
      " 1   accident_year             91199 non-null  int64  \n",
      " 2   accident_severity         91199 non-null  object \n",
      " 3   number_of_vehicles        91199 non-null  int64  \n",
      " 4   number_of_casualties      91199 non-null  int64  \n",
      " 5   date                      91199 non-null  object \n",
      " 6   Month                     91199 non-null  object \n",
      " 7   day_of_week               91199 non-null  object \n",
      " 8   local_authority_district  90208 non-null  object \n",
      " 9   road_type                 91199 non-null  object \n",
      " 10  light_conditions          91199 non-null  object \n",
      " 11  weather_conditions        91199 non-null  object \n",
      " 12  road_surface_conditions   91199 non-null  object \n",
      " 13  carriageway_hazards       91199 non-null  object \n",
      " 14  urban_or_rural_area       91199 non-null  object \n",
      " 15  trunk_road_flag           91199 non-null  object \n",
      "dtypes: float64(1), int64(3), object(12)\n",
      "memory usage: 11.1+ MB\n",
      "Dataset info:\n",
      " None \n",
      "\n",
      "        accident_index  accident_year accident_severity  number_of_vehicles  \\\n",
      "count     8.411100e+04        91199.0             91199        91199.000000   \n",
      "unique             NaN            NaN                 3                 NaN   \n",
      "top                NaN            NaN            Slight                 NaN   \n",
      "freq               NaN            NaN             71453                 NaN   \n",
      "mean               inf         2020.0               NaN            1.835272   \n",
      "std                NaN            0.0               NaN            0.677272   \n",
      "min       2.020000e+12         2020.0               NaN            1.000000   \n",
      "25%       2.020000e+12         2020.0               NaN            1.000000   \n",
      "50%       2.020000e+12         2020.0               NaN            2.000000   \n",
      "75%       2.020000e+12         2020.0               NaN            2.000000   \n",
      "max                inf         2020.0               NaN           13.000000   \n",
      "\n",
      "        number_of_casualties      date    Month day_of_week  \\\n",
      "count           91199.000000     91199    91199       91199   \n",
      "unique                   NaN       366       12           7   \n",
      "top                      NaN  2/6/2020  January      Friday   \n",
      "freq                     NaN       426     9591       14889   \n",
      "mean                1.267382       NaN      NaN         NaN   \n",
      "std                 0.681473       NaN      NaN         NaN   \n",
      "min                 1.000000       NaN      NaN         NaN   \n",
      "25%                 1.000000       NaN      NaN         NaN   \n",
      "50%                 1.000000       NaN      NaN         NaN   \n",
      "75%                 1.000000       NaN      NaN         NaN   \n",
      "max                41.000000       NaN      NaN         NaN   \n",
      "\n",
      "       local_authority_district           road_type light_conditions  \\\n",
      "count                     90208               91199            91199   \n",
      "unique                      376                   6                6   \n",
      "top                  Birmingham  Single carriageway         Daylight   \n",
      "freq                       1801               66929            64458   \n",
      "mean                        NaN                 NaN              NaN   \n",
      "std                         NaN                 NaN              NaN   \n",
      "min                         NaN                 NaN              NaN   \n",
      "25%                         NaN                 NaN              NaN   \n",
      "50%                         NaN                 NaN              NaN   \n",
      "75%                         NaN                 NaN              NaN   \n",
      "max                         NaN                 NaN              NaN   \n",
      "\n",
      "        weather_conditions road_surface_conditions carriageway_hazards  \\\n",
      "count                91199                   91199               91199   \n",
      "unique                  10                       7                   8   \n",
      "top     Fine no high winds                     Dry                None   \n",
      "freq                 70729                   62698               87881   \n",
      "mean                   NaN                     NaN                 NaN   \n",
      "std                    NaN                     NaN                 NaN   \n",
      "min                    NaN                     NaN                 NaN   \n",
      "25%                    NaN                     NaN                 NaN   \n",
      "50%                    NaN                     NaN                 NaN   \n",
      "75%                    NaN                     NaN                 NaN   \n",
      "max                    NaN                     NaN                 NaN   \n",
      "\n",
      "       urban_or_rural_area trunk_road_flag  \n",
      "count                91199           91199  \n",
      "unique                   3               3  \n",
      "top                  Urban       Non-trunk  \n",
      "freq                 61737           79222  \n",
      "mean                   NaN             NaN  \n",
      "std                    NaN             NaN  \n",
      "min                    NaN             NaN  \n",
      "25%                    NaN             NaN  \n",
      "50%                    NaN             NaN  \n",
      "75%                    NaN             NaN  \n",
      "max                    NaN             NaN   \n",
      "\n",
      "Shape of Dataframe:\n",
      " (91199, 16) \n",
      "\n",
      "Columns in Datafram:\n",
      " Index(['accident_index', 'accident_year', 'accident_severity',\n",
      "       'number_of_vehicles', 'number_of_casualties', 'date', 'Month',\n",
      "       'day_of_week', 'local_authority_district', 'road_type',\n",
      "       'light_conditions', 'weather_conditions', 'road_surface_conditions',\n",
      "       'carriageway_hazards', 'urban_or_rural_area', 'trunk_road_flag'],\n",
      "      dtype='object') \n",
      "\n"
     ]
    }
   ],
   "source": [
    "explore_dataframe(df_accident)"
   ]
  },
  {
   "cell_type": "markdown",
   "id": "713b9708",
   "metadata": {},
   "source": [
    "### Defining dictionary to store accident count by month"
   ]
  },
  {
   "cell_type": "code",
   "execution_count": 10,
   "id": "dbb56310",
   "metadata": {},
   "outputs": [],
   "source": [
    "accident_month= {\"Month\":[],\"Accident_count\":[]}"
   ]
  },
  {
   "cell_type": "code",
   "execution_count": 11,
   "id": "3fd8c1e8",
   "metadata": {},
   "outputs": [],
   "source": [
    "# defining list for months of the year to iterate in a loop\n",
    "months=[\"January\",\"February\",\"March\",\"April\",\"May\",\"June\",\"July\",\"August\",\"September\",\"October\",\"November\",\"December\"]"
   ]
  },
  {
   "cell_type": "markdown",
   "id": "d1d54ede",
   "metadata": {},
   "source": [
    "### Calling analysis function to calculate count of accidents by month"
   ]
  },
  {
   "cell_type": "code",
   "execution_count": 12,
   "id": "afd6260d",
   "metadata": {},
   "outputs": [],
   "source": [
    "for i in months:\n",
    "    accident_month[\"Month\"].append(i)\n",
    "    accident_month[\"Accident_count\"].append(analysis(df_accident['Month'],i))"
   ]
  },
  {
   "cell_type": "code",
   "execution_count": 13,
   "id": "8c47cecf",
   "metadata": {},
   "outputs": [
    {
     "data": {
      "image/png": "[encoded data removed]",
      "text/plain": [
       "<Figure size 720x432 with 1 Axes>"
      ]
     },
     "metadata": {
      "needs_background": "light"
     },
     "output_type": "display_data"
    }
   ],
   "source": [
    "plot_lineGraph(accident_month['Month'],\n",
    "               accident_month['Accident_count'],'Months of 2020','Number of accidents','Accidents by Month')"
   ]
  },
  {
   "cell_type": "markdown",
   "id": "010ef877",
   "metadata": {},
   "source": [
    "### Accidents by Severity"
   ]
  },
  {
   "cell_type": "code",
   "execution_count": 14,
   "id": "42c29ab7",
   "metadata": {},
   "outputs": [],
   "source": [
    "# Defining dictionary to store Accidents count by Severity\n",
    "accident_sev= {\"Accident_Severity\":[],\"Accident_count\":[],\"myexplode\":[]}"
   ]
  },
  {
   "cell_type": "code",
   "execution_count": 15,
   "id": "3b6c0dc9",
   "metadata": {},
   "outputs": [],
   "source": [
    "# Appending dictionary by calling analysis function\n",
    "accident_sev[\"Accident_Severity\"].append('Fatal')\n",
    "accident_sev[\"Accident_count\"].append(analysis(df_accident['accident_severity'],'Fatal'))\n",
    "accident_sev[\"myexplode\"].append(0.2)\n",
    "\n",
    "accident_sev[\"Accident_Severity\"].append('Slight')\n",
    "accident_sev[\"Accident_count\"].append(analysis(df_accident['accident_severity'],'Slight'))\n",
    "accident_sev[\"myexplode\"].append(0)\n",
    "\n",
    "accident_sev[\"Accident_Severity\"].append('Serious')\n",
    "accident_sev[\"Accident_count\"].append(analysis(df_accident['accident_severity'],'Serious'))\n",
    "accident_sev[\"myexplode\"].append(0)"
   ]
  },
  {
   "cell_type": "code",
   "execution_count": 16,
   "id": "9781e149",
   "metadata": {},
   "outputs": [
    {
     "data": {
      "image/png": "[encoded data removed]",
      "text/plain": [
       "<Figure size 720x576 with 1 Axes>"
      ]
     },
     "metadata": {},
     "output_type": "display_data"
    }
   ],
   "source": [
    "# plotting pie chart for percentage of accidents by severity\n",
    "plot_pieChart(accident_sev['Accident_count'],accident_sev['Accident_Severity'],\n",
    "              accident_sev[\"myexplode\"],['#EF634D','#33DAFF','#FFAF33'])"
   ]
  },
  {
   "cell_type": "markdown",
   "id": "ed7d0281",
   "metadata": {},
   "source": [
    "### Accidents by Road Surface Condition"
   ]
  },
  {
   "cell_type": "code",
   "execution_count": 17,
   "id": "c57d29c2",
   "metadata": {},
   "outputs": [],
   "source": [
    "# Defining dictionary to store Accidents count by Road Surface Condition\n",
    "accident_road= {\"Road_Condition\":[],\"Accident_count\":[]}"
   ]
  },
  {
   "cell_type": "code",
   "execution_count": 18,
   "id": "c8245e41",
   "metadata": {},
   "outputs": [],
   "source": [
    "# Appending dictionary by calling analysis function\n",
    "accident_road[\"Road_Condition\"].append('Dry')\n",
    "accident_road[\"Accident_count\"].append(analysis(df_accident['road_surface_conditions'],'Dry'))\n",
    "\n",
    "accident_road[\"Road_Condition\"].append('Flood over 3cm. deep')\n",
    "accident_road[\"Accident_count\"].append(analysis(df_accident['road_surface_conditions'],'Flood over 3cm. deep'))\n",
    "\n",
    "accident_road[\"Road_Condition\"].append('Frost or ice')\n",
    "accident_road[\"Accident_count\"].append(analysis(df_accident['road_surface_conditions'],'Frost or ice'))\n",
    "\n",
    "accident_road[\"Road_Condition\"].append('Snow')\n",
    "accident_road[\"Accident_count\"].append(analysis(df_accident['road_surface_conditions'],'Snow'))\n",
    "\n",
    "accident_road[\"Road_Condition\"].append('Wet or damp')\n",
    "accident_road[\"Accident_count\"].append(analysis(df_accident['road_surface_conditions'],'Wet or damp'))"
   ]
  },
  {
   "cell_type": "code",
   "execution_count": 19,
   "id": "68e21b2f",
   "metadata": {},
   "outputs": [],
   "source": [
    "df_AccRoad = pd.DataFrame.from_dict(accident_road)"
   ]
  },
  {
   "cell_type": "code",
   "execution_count": 20,
   "id": "f7637b37",
   "metadata": {},
   "outputs": [
    {
     "data": {
      "image/png": "[encoded data removed]",
      "text/plain": [
       "<Figure size 432x288 with 1 Axes>"
      ]
     },
     "metadata": {
      "needs_background": "light"
     },
     "output_type": "display_data"
    }
   ],
   "source": [
    "plot_table(df_AccRoad.values, df_AccRoad.index, df_AccRoad.columns)"
   ]
  },
  {
   "cell_type": "markdown",
   "id": "0f343f58",
   "metadata": {},
   "source": [
    "### Accidents by Light conditions"
   ]
  },
  {
   "cell_type": "code",
   "execution_count": 21,
   "id": "0971f50d",
   "metadata": {},
   "outputs": [],
   "source": [
    "# Defining dictionary to store Accidents count by Light Condition\n",
    "accident_light= {\"light_conditions\":[],\"Accident_count\":[]}"
   ]
  },
  {
   "cell_type": "code",
   "execution_count": 22,
   "id": "46d68e2d",
   "metadata": {},
   "outputs": [],
   "source": [
    "# Appending dictionary by calling analysis function\n",
    "accident_light[\"light_conditions\"].append('Darkness - lighting unknown')\n",
    "accident_light[\"Accident_count\"].append(analysis(df_accident['light_conditions'],'Darkness - lighting unknown'))\n",
    "\n",
    "accident_light[\"light_conditions\"].append('Darkness - lights lit')\n",
    "accident_light[\"Accident_count\"].append(analysis(df_accident['light_conditions'],'Darkness - lights lit'))\n",
    "\n",
    "accident_light[\"light_conditions\"].append('Darkness - lights unlit')\n",
    "accident_light[\"Accident_count\"].append(analysis(df_accident['light_conditions'],'Darkness - lights unlit'))\n",
    "\n",
    "accident_light[\"light_conditions\"].append('Darkness - no lighting')\n",
    "accident_light[\"Accident_count\"].append(analysis(df_accident['light_conditions'],'Darkness - no lighting'))\n",
    "\n",
    "accident_light[\"light_conditions\"].append('Daylight')\n",
    "accident_light[\"Accident_count\"].append(analysis(df_accident['light_conditions'],'Daylight'))"
   ]
  },
  {
   "cell_type": "code",
   "execution_count": 23,
   "id": "257b674f",
   "metadata": {},
   "outputs": [
    {
     "data": {
      "image/png": "[encoded data removed]",
      "text/plain": [
       "<Figure size 720x432 with 1 Axes>"
      ]
     },
     "metadata": {
      "needs_background": "light"
     },
     "output_type": "display_data"
    }
   ],
   "source": [
    "plot_barGraph(accident_light['light_conditions'], accident_light['Accident_count'], 'Light Conditions', \n",
    "              'Number of accidents', 'Accidents by light conditions')"
   ]
  }
 ],
 "metadata": {
  "kernelspec": {
   "display_name": "Python 3 (ipykernel)",
   "language": "python",
   "name": "python3"
  },
  "language_info": {
   "codemirror_mode": {
    "name": "ipython",
    "version": 3
   },
   "file_extension": ".py",
   "mimetype": "text/x-python",
   "name": "python",
   "nbconvert_exporter": "python",
   "pygments_lexer": "ipython3",
   "version": "3.9.7"
  }
 },
 "nbformat": 4,
 "nbformat_minor": 5
}
